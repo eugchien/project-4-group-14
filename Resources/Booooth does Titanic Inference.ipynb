{
 "cells": [
  {
   "cell_type": "code",
   "execution_count": 1,
   "id": "a3b39c02-71bc-4c3c-97ec-8f496228e32e",
   "metadata": {},
   "outputs": [],
   "source": [
    "import pandas as pd\n",
    "import pickle\n",
    "import numpy as np"
   ]
  },
  {
   "cell_type": "code",
   "execution_count": 11,
   "id": "e57e161a-7587-49f8-a86d-860b9f0f8803",
   "metadata": {},
   "outputs": [],
   "source": [
    "def makePredictions(sex_flag, age, fare, familySize, p_class, embarked, has_cabin):\n",
    "    \n",
    "    # pclass_1 = 0\n",
    "    # pclass_2 = 0\n",
    "    # pclass_3 = 0\n",
    "    \n",
    "    p_class_dict = {\n",
    "        \"pclass_1\": 0,\n",
    "        \"pclass_2\": 0,\n",
    "        \"pclass_3\": 0\n",
    "    }\n",
    "    \n",
    "    embarked_c = 0\n",
    "    embarked_q = 0\n",
    "    embarked_s = 0\n",
    "    \n",
    "    # # parse pclass\n",
    "    # if (pclass == 1):\n",
    "    #     pclass_1 = 1\n",
    "    # elif (pclass == 2):\n",
    "    #     pclass_2 = 1\n",
    "    # elif (pclass == 3):\n",
    "    #     pclass_3 = 1\n",
    "    # else:\n",
    "    #     pass\n",
    "    \n",
    "    p_class_dict[f\"pclass_{p_class}\"] = 1\n",
    "    \n",
    "    # parse embarked\n",
    "    if (embarked == \"C\"):\n",
    "        embarked_c = 1\n",
    "    elif (embarked == \"Q\"):\n",
    "        embarked_q = 1\n",
    "    elif (embarked == \"S\"):\n",
    "        embarked_s = 1\n",
    "    else:\n",
    "        pass\n",
    "    \n",
    "    df = pd.DataFrame()\n",
    "    df[\"Sex\"] = [sex_flag]\n",
    "    df[\"Age\"] = [age]\n",
    "    df[\"Fare\"] = [fare]\n",
    "    df[\"Has_Cabin\"] = [has_cabin]\n",
    "    df[\"Family_Size\"] = [familySize]\n",
    "    df[\"Pclass_1\"] = [p_class_dict[f\"pclass_1\"]]\n",
    "    df[\"Pclass_2\"] = [p_class_dict[f\"pclass_2\"]]\n",
    "    df[\"Pclass_3\"] = [p_class_dict[f\"pclass_3\"]]\n",
    "    df[\"Embarked_C\"] = embarked_c\n",
    "    df[\"Embarked_Q\"] = embarked_q\n",
    "    df[\"Embarked_S\"] = embarked_s\n",
    "    \n",
    "    # Scaler\n",
    "    scaler = pickle.load(open(\"titanic_scaler.h5\", 'rb'))\n",
    "    \n",
    "    scaled_data = scaler.transform(df.loc[:, [\"Age\", \"Fare\", \"Family_Size\"]])\n",
    "    df_scaled = pd.DataFrame(scaled_data, columns=[\"Age\", \"Fare\", \"Family_Size\"])\n",
    "    \n",
    "    # replace\n",
    "    df[\"Age\"] = df_scaled.Age\n",
    "    df[\"Fare\"] = df_scaled.Fare\n",
    "    df[\"Family_Size\"] = df_scaled.Family_Size\n",
    "    \n",
    "    # model\n",
    "    model = pickle.load(open(\"titanic_model.h5\", 'rb'))\n",
    "    \n",
    "    # columns in order\n",
    "    df = df.loc[:, ['Age', 'Fare', 'Family_Size', 'Sex', 'Has_Cabin', 'Pclass_1',\n",
    "           'Pclass_2', 'Pclass_3', 'Embarked_C', 'Embarked_Q', 'Embarked_S']]\n",
    "    \n",
    "    preds = model.predict_proba(df)\n",
    "    return(preds[0][1])"
   ]
  },
  {
   "cell_type": "code",
   "execution_count": 13,
   "id": "05a99ac2-17ad-4444-8bda-bee265225699",
   "metadata": {},
   "outputs": [
    {
     "data": {
      "text/plain": [
       "0.313314385450988"
      ]
     },
     "execution_count": 13,
     "metadata": {},
     "output_type": "execute_result"
    }
   ],
   "source": [
    "sex_flag = 0\n",
    "age = 24\n",
    "fare = 17\n",
    "familySize = 4\n",
    "p_class = 1\n",
    "embarked = \"S\"\n",
    "has_cabin = 1\n",
    "\n",
    "makePredictions(sex_flag, age, fare, familySize, p_class, embarked, has_cabin)"
   ]
  },
  {
   "cell_type": "code",
   "execution_count": null,
   "id": "3a2d6662-466e-49b9-b406-d0d61adfba65",
   "metadata": {},
   "outputs": [],
   "source": []
  },
  {
   "cell_type": "code",
   "execution_count": 14,
   "id": "42ee1d90-0575-44de-afb4-31cca0185cb4",
   "metadata": {},
   "outputs": [],
   "source": [
    "# Titanic V3 = with pipeline"
   ]
  },
  {
   "cell_type": "code",
   "execution_count": 19,
   "id": "d27a8694-21ea-4593-bcd2-c35d6ccbb4a3",
   "metadata": {},
   "outputs": [],
   "source": [
    "def makePredictions2(sex_flag, age, fare, familySize, p_class, embarked, has_cabin):\n",
    "\n",
    "    df = pd.DataFrame()\n",
    "    df[\"Sex\"] = [sex_flag]\n",
    "    df[\"Age\"] = [age]\n",
    "    df[\"Fare\"] = [fare]\n",
    "    df[\"Has_Cabin\"] = [has_cabin]\n",
    "    df[\"Family_Size\"] = [familySize]\n",
    "    df[\"Pclass\"] = [p_class]\n",
    "    df[\"Embarked\"] = [embarked]\n",
    "    \n",
    "    # model\n",
    "    model = pickle.load(open(\"titanic_model_pipeline2.h5\", 'rb'))\n",
    "    \n",
    "    # columns in order\n",
    "    df = df.loc[:, ['Pclass', 'Sex', 'Age', 'Fare', 'Embarked', 'Has_Cabin', 'Family_Size']]\n",
    "    \n",
    "    preds = model.predict_proba(df)\n",
    "    return(preds[0][1])"
   ]
  },
  {
   "cell_type": "code",
   "execution_count": 21,
   "id": "95577d37-129c-4f6f-9b2a-677e8f66d8cb",
   "metadata": {},
   "outputs": [
    {
     "data": {
      "text/plain": [
       "0.9275835886304591"
      ]
     },
     "execution_count": 21,
     "metadata": {},
     "output_type": "execute_result"
    }
   ],
   "source": [
    "sex_flag = \"female\"\n",
    "age = 24\n",
    "fare = 17\n",
    "familySize = 4\n",
    "p_class = 1\n",
    "embarked = \"S\"\n",
    "has_cabin = True\n",
    "\n",
    "makePredictions2(sex_flag, age, fare, familySize, p_class, embarked, has_cabin)"
   ]
  },
  {
   "cell_type": "code",
   "execution_count": null,
   "id": "b8c22234-ed5c-4754-9998-9f30a31f3103",
   "metadata": {},
   "outputs": [],
   "source": []
  }
 ],
 "metadata": {
  "kernelspec": {
   "display_name": "Python 3 (ipykernel)",
   "language": "python",
   "name": "python3"
  },
  "language_info": {
   "codemirror_mode": {
    "name": "ipython",
    "version": 3
   },
   "file_extension": ".py",
   "mimetype": "text/x-python",
   "name": "python",
   "nbconvert_exporter": "python",
   "pygments_lexer": "ipython3",
   "version": "3.10.14"
  }
 },
 "nbformat": 4,
 "nbformat_minor": 5
}
