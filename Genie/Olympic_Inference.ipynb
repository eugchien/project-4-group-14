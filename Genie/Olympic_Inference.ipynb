{
 "cells": [
  {
   "cell_type": "code",
   "execution_count": 1,
   "id": "a3b39c02-71bc-4c3c-97ec-8f496228e32e",
   "metadata": {},
   "outputs": [],
   "source": [
    "import pandas as pd\n",
    "import pickle\n",
    "import numpy as np"
   ]
  },
  {
   "cell_type": "code",
   "execution_count": 18,
   "id": "e57e161a-7587-49f8-a86d-860b9f0f8803",
   "metadata": {},
   "outputs": [
    {
     "name": "stdout",
     "output_type": "stream",
     "text": [
      "[[0.91666667 0.         0.08333333 0.        ]]\n"
     ]
    }
   ],
   "source": [
    "def makePredictions(sex, age, height, weight, name_of_country, year, season, sport):\n",
    "    \n",
    "    df = pd.DataFrame()\n",
    "    df[\"Sex\"] = [sex]\n",
    "    df[\"Age\"] = [age]\n",
    "    df[\"Height\"] = [height]\n",
    "    df[\"Weight\"] = [weight]\n",
    "    df[\"NOC\"] = [name_of_country]\n",
    "    df[\"Year\"] = [year]\n",
    "    df[\"Season\"] = [season]\n",
    "    df[\"Sport\"] = [sport]\n",
    "    #df[\"Embarked_C\"] = embarked_c\n",
    "    #df[\"Embarked_Q\"] = embarked_q\n",
    "    #df[\"Embarked_S\"] = embarked_s\n",
    "    \n",
    "    # model\n",
    "    model = pickle.load(open(\"Olympic_model.h5\", 'rb'))\n",
    "    \n",
    "    # columns in order\n",
    "    df = df.loc[:, ['Sex', 'Age', 'Height', 'Weight', 'NOC', 'Year', 'Season', 'Sport']]\n",
    "    \n",
    "    preds = model.predict_proba(df)\n",
    "    print(preds)\n",
    "    #return(preds[0][1][2][3])\n",
    "\n",
    "\n",
    "sex = 1\n",
    "age = 28\n",
    "height = 175\n",
    "weight = 70\n",
    "name_of_country = 198\n",
    "year = 2014\n",
    "season = 1\n",
    "sport = 16\n",
    "\n",
    "makePredictions(sex, age, height, weight, name_of_country, year, season, sport)"
   ]
  },
  {
   "cell_type": "code",
   "execution_count": 13,
   "id": "86a63e8a",
   "metadata": {},
   "outputs": [
    {
     "ename": "NameError",
     "evalue": "name 'preds' is not defined",
     "output_type": "error",
     "traceback": [
      "\u001b[1;31m---------------------------------------------------------------------------\u001b[0m",
      "\u001b[1;31mNameError\u001b[0m                                 Traceback (most recent call last)",
      "Cell \u001b[1;32mIn[13], line 1\u001b[0m\n\u001b[1;32m----> 1\u001b[0m \u001b[43mpreds\u001b[49m\n",
      "\u001b[1;31mNameError\u001b[0m: name 'preds' is not defined"
     ]
    }
   ],
   "source": [
    "print(preds \n"
   ]
  },
  {
   "cell_type": "code",
   "execution_count": 10,
   "id": "05a99ac2-17ad-4444-8bda-bee265225699",
   "metadata": {},
   "outputs": [
    {
     "ename": "IndexError",
     "evalue": "invalid index to scalar variable.",
     "output_type": "error",
     "traceback": [
      "\u001b[1;31m---------------------------------------------------------------------------\u001b[0m",
      "\u001b[1;31mIndexError\u001b[0m                                Traceback (most recent call last)",
      "Cell \u001b[1;32mIn[10], line 10\u001b[0m\n\u001b[0;32m      7\u001b[0m season \u001b[38;5;241m=\u001b[39m \u001b[38;5;241m1\u001b[39m\n\u001b[0;32m      8\u001b[0m sport \u001b[38;5;241m=\u001b[39m \u001b[38;5;241m16\u001b[39m\n\u001b[1;32m---> 10\u001b[0m \u001b[43mmakePredictions\u001b[49m\u001b[43m(\u001b[49m\u001b[43msex\u001b[49m\u001b[43m,\u001b[49m\u001b[43m \u001b[49m\u001b[43mage\u001b[49m\u001b[43m,\u001b[49m\u001b[43m \u001b[49m\u001b[43mheight\u001b[49m\u001b[43m,\u001b[49m\u001b[43m \u001b[49m\u001b[43mweight\u001b[49m\u001b[43m,\u001b[49m\u001b[43m \u001b[49m\u001b[43mname_of_country\u001b[49m\u001b[43m,\u001b[49m\u001b[43m \u001b[49m\u001b[43myear\u001b[49m\u001b[43m,\u001b[49m\u001b[43m \u001b[49m\u001b[43mseason\u001b[49m\u001b[43m,\u001b[49m\u001b[43m \u001b[49m\u001b[43msport\u001b[49m\u001b[43m)\u001b[49m\n",
      "Cell \u001b[1;32mIn[9], line 23\u001b[0m, in \u001b[0;36mmakePredictions\u001b[1;34m(sex, age, height, weight, name_of_country, year, season, sport)\u001b[0m\n\u001b[0;32m     20\u001b[0m df \u001b[38;5;241m=\u001b[39m df\u001b[38;5;241m.\u001b[39mloc[:, [\u001b[38;5;124m'\u001b[39m\u001b[38;5;124mSex\u001b[39m\u001b[38;5;124m'\u001b[39m, \u001b[38;5;124m'\u001b[39m\u001b[38;5;124mAge\u001b[39m\u001b[38;5;124m'\u001b[39m, \u001b[38;5;124m'\u001b[39m\u001b[38;5;124mHeight\u001b[39m\u001b[38;5;124m'\u001b[39m, \u001b[38;5;124m'\u001b[39m\u001b[38;5;124mWeight\u001b[39m\u001b[38;5;124m'\u001b[39m, \u001b[38;5;124m'\u001b[39m\u001b[38;5;124mNOC\u001b[39m\u001b[38;5;124m'\u001b[39m, \u001b[38;5;124m'\u001b[39m\u001b[38;5;124mYear\u001b[39m\u001b[38;5;124m'\u001b[39m, \u001b[38;5;124m'\u001b[39m\u001b[38;5;124mSeason\u001b[39m\u001b[38;5;124m'\u001b[39m, \u001b[38;5;124m'\u001b[39m\u001b[38;5;124mSport\u001b[39m\u001b[38;5;124m'\u001b[39m]]\n\u001b[0;32m     22\u001b[0m preds \u001b[38;5;241m=\u001b[39m model\u001b[38;5;241m.\u001b[39mpredict_proba(df)\n\u001b[1;32m---> 23\u001b[0m \u001b[38;5;28;01mreturn\u001b[39;00m(\u001b[43mpreds\u001b[49m\u001b[43m[\u001b[49m\u001b[38;5;241;43m0\u001b[39;49m\u001b[43m]\u001b[49m\u001b[43m[\u001b[49m\u001b[38;5;241;43m1\u001b[39;49m\u001b[43m]\u001b[49m\u001b[43m[\u001b[49m\u001b[38;5;241;43m2\u001b[39;49m\u001b[43m]\u001b[49m[\u001b[38;5;241m3\u001b[39m])\n",
      "\u001b[1;31mIndexError\u001b[0m: invalid index to scalar variable."
     ]
    }
   ],
   "source": [
    "sex = 1\n",
    "age = 28\n",
    "height = 175\n",
    "weight = 70\n",
    "name_of_country = 198\n",
    "year = 2014\n",
    "season = 1\n",
    "sport = 16\n",
    "\n",
    "makePredictions(sex, age, height, weight, name_of_country, year, season, sport)"
   ]
  },
  {
   "cell_type": "code",
   "execution_count": null,
   "id": "3a2d6662-466e-49b9-b406-d0d61adfba65",
   "metadata": {},
   "outputs": [],
   "source": []
  },
  {
   "cell_type": "code",
   "execution_count": null,
   "id": "b8c22234-ed5c-4754-9998-9f30a31f3103",
   "metadata": {},
   "outputs": [],
   "source": []
  }
 ],
 "metadata": {
  "kernelspec": {
   "display_name": "Python 3 (ipykernel)",
   "language": "python",
   "name": "python3"
  },
  "language_info": {
   "codemirror_mode": {
    "name": "ipython",
    "version": 3
   },
   "file_extension": ".py",
   "mimetype": "text/x-python",
   "name": "python",
   "nbconvert_exporter": "python",
   "pygments_lexer": "ipython3",
   "version": "3.10.14"
  }
 },
 "nbformat": 4,
 "nbformat_minor": 5
}
