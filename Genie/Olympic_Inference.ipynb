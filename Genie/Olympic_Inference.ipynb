{
 "cells": [
  {
   "cell_type": "code",
   "execution_count": 5,
   "id": "a3b39c02-71bc-4c3c-97ec-8f496228e32e",
   "metadata": {},
   "outputs": [],
   "source": [
    "import pandas as pd\n",
    "import pickle\n",
    "import numpy as np"
   ]
  },
  {
   "cell_type": "code",
   "execution_count": 6,
   "id": "e57e161a-7587-49f8-a86d-860b9f0f8803",
   "metadata": {},
   "outputs": [],
   "source": [
    "def makePredictions(sex, age, height, weight, name_of_country, year, season, sport):\n",
    "    \n",
    "    # Dataframe\n",
    "    df = pd.DataFrame()\n",
    "    df[\"Sex\"] = [sex]\n",
    "    df[\"Age\"] = [age]\n",
    "    df[\"Height\"] = [height]\n",
    "    df[\"Weight\"] = [weight]\n",
    "    df[\"NOC\"] = [name_of_country]\n",
    "    df[\"Year\"] = [year]\n",
    "    df[\"Season\"] = [season]\n",
    "    df[\"Sport\"] = [sport]\n",
    "    \n",
    "    # Load Model\n",
    "    model = pickle.load(open(\"Olympic_model.h5\", 'rb'))\n",
    "    \n",
    "    # Locate\n",
    "    df = df.loc[:, ['Sex', 'Age', 'Height', 'Weight', 'NOC', 'Year', 'Season', 'Sport']]\n",
    "    \n",
    "    # Predict\n",
    "    preds = model.predict(df)\n",
    "\n",
    "    # Return Prediction\n",
    "    return preds[0]"
   ]
  },
  {
   "cell_type": "code",
   "execution_count": 7,
   "id": "05a99ac2-17ad-4444-8bda-bee265225699",
   "metadata": {},
   "outputs": [
    {
     "data": {
      "text/plain": [
       "'Gold'"
      ]
     },
     "execution_count": 7,
     "metadata": {},
     "output_type": "execute_result"
    }
   ],
   "source": [
    "# Test\n",
    "\n",
    "sex = 1\n",
    "age = 28\n",
    "height = 187\n",
    "weight = 79\n",
    "name_of_country = 159\n",
    "year = 2016\n",
    "season = 0\n",
    "sport = 15\n",
    "\n",
    "makePredictions(sex, age, height, weight, name_of_country, year, season, sport)"
   ]
  }
 ],
 "metadata": {
  "kernelspec": {
   "display_name": "Python 3 (ipykernel)",
   "language": "python",
   "name": "python3"
  },
  "language_info": {
   "codemirror_mode": {
    "name": "ipython",
    "version": 3
   },
   "file_extension": ".py",
   "mimetype": "text/x-python",
   "name": "python",
   "nbconvert_exporter": "python",
   "pygments_lexer": "ipython3",
   "version": "3.10.14"
  }
 },
 "nbformat": 4,
 "nbformat_minor": 5
}
