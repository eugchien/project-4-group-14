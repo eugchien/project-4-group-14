{
 "cells": [
  {
   "cell_type": "code",
   "execution_count": 1,
   "metadata": {},
   "outputs": [],
   "source": [
    "import pandas as pd"
   ]
  },
  {
   "cell_type": "code",
   "execution_count": 2,
   "metadata": {},
   "outputs": [],
   "source": [
    "df = pd.read_csv(\"Resources/Athlete_genie.csv\")"
   ]
  },
  {
   "cell_type": "code",
   "execution_count": 3,
   "metadata": {},
   "outputs": [],
   "source": [
    "# Fill in null values for Age with medians based on Sex and Sport\n",
    "\n",
    "medians = df.groupby(['Sex','Sport'])['Age'].transform('median')\n",
    "\n",
    "df['Age'] = df['Age'].fillna(medians)"
   ]
  },
  {
   "cell_type": "code",
   "execution_count": 4,
   "metadata": {},
   "outputs": [],
   "source": [
    "# Fill in null values for Height with medians based on Sex and Sport\n",
    "\n",
    "medians = df.groupby(['Sex','Sport'])['Height'].transform('median')\n",
    "\n",
    "df['Height'] = df['Height'].fillna(medians)"
   ]
  },
  {
   "cell_type": "code",
   "execution_count": 5,
   "metadata": {},
   "outputs": [],
   "source": [
    "# Fill in null values for Weight with medians based on Sex and Sport\n",
    "\n",
    "medians = df.groupby(['Sex','Sport'])['Weight'].transform('median')\n",
    "\n",
    "df['Weight'] = df['Weight'].fillna(medians)"
   ]
  },
  {
   "cell_type": "code",
   "execution_count": 6,
   "metadata": {},
   "outputs": [],
   "source": [
    "# Fill in null values for Medal\n",
    "\n",
    "df[\"Medal\"] = df[\"Medal\"].fillna(\"No Medal\")"
   ]
  },
  {
   "cell_type": "code",
   "execution_count": 10,
   "metadata": {},
   "outputs": [],
   "source": [
    "# Filter for years >= 1940\n",
    "\n",
    "df_filtered = df[df['Year']>=1950]"
   ]
  },
  {
   "cell_type": "code",
   "execution_count": 11,
   "metadata": {},
   "outputs": [
    {
     "name": "stdout",
     "output_type": "stream",
     "text": [
      "<class 'pandas.core.frame.DataFrame'>\n",
      "Index: 224864 entries, 0 to 271115\n",
      "Data columns (total 15 columns):\n",
      " #   Column  Non-Null Count   Dtype  \n",
      "---  ------  --------------   -----  \n",
      " 0   ID      224864 non-null  int64  \n",
      " 1   Name    224864 non-null  object \n",
      " 2   Sex     224864 non-null  object \n",
      " 3   Age     224864 non-null  float64\n",
      " 4   Height  224864 non-null  float64\n",
      " 5   Weight  224864 non-null  float64\n",
      " 6   Team    224864 non-null  object \n",
      " 7   NOC     224864 non-null  object \n",
      " 8   Games   224864 non-null  object \n",
      " 9   Year    224864 non-null  int64  \n",
      " 10  Season  224864 non-null  object \n",
      " 11  City    224864 non-null  object \n",
      " 12  Sport   224864 non-null  object \n",
      " 13  Event   224864 non-null  object \n",
      " 14  Medal   224864 non-null  object \n",
      "dtypes: float64(3), int64(2), object(10)\n",
      "memory usage: 27.4+ MB\n"
     ]
    }
   ],
   "source": [
    "df_filtered.info()"
   ]
  },
  {
   "cell_type": "code",
   "execution_count": 12,
   "metadata": {},
   "outputs": [],
   "source": [
    "df.to_csv('Resources/athlete_for_tableau_1950.csv', index=False)"
   ]
  },
  {
   "cell_type": "code",
   "execution_count": null,
   "metadata": {},
   "outputs": [],
   "source": []
  }
 ],
 "metadata": {
  "kernelspec": {
   "display_name": "dev",
   "language": "python",
   "name": "python3"
  },
  "language_info": {
   "codemirror_mode": {
    "name": "ipython",
    "version": 3
   },
   "file_extension": ".py",
   "mimetype": "text/x-python",
   "name": "python",
   "nbconvert_exporter": "python",
   "pygments_lexer": "ipython3",
   "version": "3.10.14"
  }
 },
 "nbformat": 4,
 "nbformat_minor": 2
}
